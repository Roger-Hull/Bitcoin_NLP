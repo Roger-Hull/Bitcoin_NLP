{
 "cells": [
  {
   "cell_type": "markdown",
   "metadata": {},
   "source": [
    "# Tales from Crypto\n",
    "\n",
    "---\n"
   ]
  },
  {
   "cell_type": "markdown",
   "metadata": {},
   "source": [
    "## 1. Sentiment Analysis\n",
    "\n",
    "Use the [newsapi](https://newsapi.org/) to pull the latest news articles for Bitcoin and Ethereum and create a DataFrame of sentiment scores for each coin.\n",
    "\n",
    "Use descriptive statistics to answer the following questions:\n",
    "1. Which coin had the highest mean positive score?\n",
    "2. Which coin had the highest negative score?\n",
    "3. Which coin had the highest positive score?"
   ]
  },
  {
   "cell_type": "code",
   "execution_count": 1,
   "metadata": {},
   "outputs": [
    {
     "name": "stderr",
     "output_type": "stream",
     "text": [
      "[nltk_data] Downloading package vader_lexicon to\n",
      "[nltk_data]     C:\\Users\\Rog\\AppData\\Roaming\\nltk_data...\n",
      "[nltk_data]   Package vader_lexicon is already up-to-date!\n"
     ]
    }
   ],
   "source": [
    "# Initial imports\n",
    "import os\n",
    "import pandas as pd\n",
    "import numpy as np\n",
    "from dotenv import load_dotenv\n",
    "import nltk as nltk\n",
    "nltk.download('vader_lexicon')\n",
    "from nltk.sentiment.vader import SentimentIntensityAnalyzer\n",
    "analyzer = SentimentIntensityAnalyzer()\n",
    "from newsapi import NewsApiClient\n",
    "\n",
    "%matplotlib inline"
   ]
  },
  {
   "cell_type": "code",
   "execution_count": 2,
   "metadata": {},
   "outputs": [],
   "source": [
    "# Read your api key environment variable\n",
    "load_dotenv()\n",
    "API = 'd05a7ec8bc9e4c359e75c4d9ed058570'"
   ]
  },
  {
   "cell_type": "code",
   "execution_count": 3,
   "metadata": {},
   "outputs": [],
   "source": [
    "# Create a newsapi client\n",
    "newsapi = NewsApiClient(api_key=API)"
   ]
  },
  {
   "cell_type": "code",
   "execution_count": 4,
   "metadata": {},
   "outputs": [],
   "source": [
    "# Fetch the Bitcoin news articles\n",
    "all_btc_articles = newsapi.get_everything(q='bitcoin',\n",
    "                                      language='en',\n",
    "                                      )\n",
    "#I am using the 'get everything' api endpoint because there are not that many etherium articles."
   ]
  },
  {
   "cell_type": "code",
   "execution_count": 5,
   "metadata": {},
   "outputs": [],
   "source": [
    "# Fetch the Ethereum news articles\n",
    "all_eth_articles = newsapi.get_everything(q='etherium',\n",
    "                                      language='en',\n",
    "                                      )"
   ]
  },
  {
   "cell_type": "code",
   "execution_count": 6,
   "metadata": {},
   "outputs": [
    {
     "name": "stdout",
     "output_type": "stream",
     "text": [
      "<class 'pandas.core.frame.DataFrame'>\n",
      "RangeIndex: 20 entries, 0 to 19\n",
      "Data columns (total 2 columns):\n",
      " #   Column       Non-Null Count  Dtype \n",
      "---  ------       --------------  ----- \n",
      " 0   title        20 non-null     object\n",
      " 1   description  20 non-null     object\n",
      "dtypes: object(2)\n",
      "memory usage: 448.0+ bytes\n"
     ]
    }
   ],
   "source": [
    "# Create the Bitcoin sentiment scores DataFrame\n",
    "btc_df = pd.DataFrame.from_dict(all_btc_articles[\"articles\"])\n",
    "\n",
    "btc_df.drop(columns=['source','author','url','urlToImage','publishedAt','content'], inplace=True)\n",
    "btc_df.info()"
   ]
  },
  {
   "cell_type": "code",
   "execution_count": 7,
   "metadata": {},
   "outputs": [
    {
     "name": "stdout",
     "output_type": "stream",
     "text": [
      "<class 'pandas.core.frame.DataFrame'>\n",
      "RangeIndex: 20 entries, 0 to 19\n",
      "Data columns (total 2 columns):\n",
      " #   Column       Non-Null Count  Dtype \n",
      "---  ------       --------------  ----- \n",
      " 0   title        20 non-null     object\n",
      " 1   description  20 non-null     object\n",
      "dtypes: object(2)\n",
      "memory usage: 448.0+ bytes\n"
     ]
    }
   ],
   "source": [
    "# Create the Ethereum sentiment scores DataFrame\n",
    "eth_df = pd.DataFrame.from_dict(all_eth_articles[\"articles\"])\n",
    "eth_df.drop(columns=['source','author','url','urlToImage','publishedAt','content'], inplace=True)\n",
    "eth_df.info()"
   ]
  },
  {
   "cell_type": "code",
   "execution_count": 8,
   "metadata": {},
   "outputs": [],
   "source": [
    "# Instantiate SentimentIntensityAnalyzer\n",
    "sid = SentimentIntensityAnalyzer()"
   ]
  },
  {
   "cell_type": "code",
   "execution_count": 9,
   "metadata": {},
   "outputs": [
    {
     "data": {
      "text/html": [
       "<div>\n",
       "<style scoped>\n",
       "    .dataframe tbody tr th:only-of-type {\n",
       "        vertical-align: middle;\n",
       "    }\n",
       "\n",
       "    .dataframe tbody tr th {\n",
       "        vertical-align: top;\n",
       "    }\n",
       "\n",
       "    .dataframe thead th {\n",
       "        text-align: right;\n",
       "    }\n",
       "</style>\n",
       "<table border=\"1\" class=\"dataframe\">\n",
       "  <thead>\n",
       "    <tr style=\"text-align: right;\">\n",
       "      <th></th>\n",
       "      <th>title</th>\n",
       "      <th>description</th>\n",
       "    </tr>\n",
       "  </thead>\n",
       "  <tbody>\n",
       "    <tr>\n",
       "      <th>0</th>\n",
       "      <td>New York passes a bill to limit bitcoin mining</td>\n",
       "      <td>New York lawmakers have passed a bill\\r\\n that...</td>\n",
       "    </tr>\n",
       "    <tr>\n",
       "      <th>1</th>\n",
       "      <td>Jay-Z and Jack Dorsey Launch Bitcoin Academy f...</td>\n",
       "      <td>Rapper and entrepreneur Shawn Carter, better k...</td>\n",
       "    </tr>\n",
       "    <tr>\n",
       "      <th>2</th>\n",
       "      <td>Bitcoin Wasn't as Decentralized or Anonymous a...</td>\n",
       "      <td>A new study on bitcoin calls into question whe...</td>\n",
       "    </tr>\n",
       "    <tr>\n",
       "      <th>3</th>\n",
       "      <td>Why the Central African Republic adopted Bitcoin</td>\n",
       "      <td>Some 90% of people in the Central African Repu...</td>\n",
       "    </tr>\n",
       "    <tr>\n",
       "      <th>4</th>\n",
       "      <td>Chipotle now accepts cryptocurrency payments</td>\n",
       "      <td>You can now reportedly pay for your burritos a...</td>\n",
       "    </tr>\n",
       "  </tbody>\n",
       "</table>\n",
       "</div>"
      ],
      "text/plain": [
       "                                               title  \\\n",
       "0     New York passes a bill to limit bitcoin mining   \n",
       "1  Jay-Z and Jack Dorsey Launch Bitcoin Academy f...   \n",
       "2  Bitcoin Wasn't as Decentralized or Anonymous a...   \n",
       "3   Why the Central African Republic adopted Bitcoin   \n",
       "4       Chipotle now accepts cryptocurrency payments   \n",
       "\n",
       "                                         description  \n",
       "0  New York lawmakers have passed a bill\\r\\n that...  \n",
       "1  Rapper and entrepreneur Shawn Carter, better k...  \n",
       "2  A new study on bitcoin calls into question whe...  \n",
       "3  Some 90% of people in the Central African Repu...  \n",
       "4  You can now reportedly pay for your burritos a...  "
      ]
     },
     "execution_count": 9,
     "metadata": {},
     "output_type": "execute_result"
    }
   ],
   "source": [
    "btc_df.head(5)"
   ]
  },
  {
   "cell_type": "markdown",
   "metadata": {},
   "source": [
    "## What do we want to learn?\n",
    "Determine the valence of the article through reading the headline of the article. \n",
    "Valence, or hedonic tone, is the affective quality referring to the intrinsic attractiveness/\"good\"-ness or \n",
    "averseness/\"bad\"-ness of an event, object, or situation. The term also characterizes and categorizes specific emotions. Through sentiment analysis, we can\n",
    "determine the valence of the article.\n"
   ]
  },
  {
   "cell_type": "code",
   "execution_count": 10,
   "metadata": {},
   "outputs": [],
   "source": [
    "# Describe the Bitcoin Sentiment\n",
    "btc_daily_sent = [] #analyze the sentiment for each article's headline\n",
    "btc_sentiment = [] #collect the mean sentiment for bitcoin from each article\n",
    "\n",
    "for title in btc_df['title']:\n",
    "    btc_daily_sent.append(sid.polarity_scores(title)[\"compound\"]) #find the compount polarity score to determine the sentiment.\n",
    "\n",
    "btc_sentiment.append(sum(btc_daily_sent) / len(btc_daily_sent)) #find the mean sentiment\n"
   ]
  },
  {
   "cell_type": "code",
   "execution_count": 11,
   "metadata": {},
   "outputs": [],
   "source": [
    "# Describe the Ethereum Sentiment\n",
    "eth_daily_sent = [] #analyze the sentiment for each article's headline\n",
    "eth_sentiment = [] #collect the mean sentiment for bitcoin from each article\n",
    "\n",
    "for title in eth_df['title']:\n",
    "    eth_daily_sent.append(sid.polarity_scores(title)[\"compound\"]) #find the compount polarity score to determine the sentiment.\n",
    "\n",
    "eth_sentiment.append(sum(eth_daily_sent) / len(eth_daily_sent)) #find the mean sentiment"
   ]
  },
  {
   "cell_type": "code",
   "execution_count": 12,
   "metadata": {},
   "outputs": [
    {
     "data": {
      "text/html": [
       "<div>\n",
       "<style scoped>\n",
       "    .dataframe tbody tr th:only-of-type {\n",
       "        vertical-align: middle;\n",
       "    }\n",
       "\n",
       "    .dataframe tbody tr th {\n",
       "        vertical-align: top;\n",
       "    }\n",
       "\n",
       "    .dataframe thead th {\n",
       "        text-align: right;\n",
       "    }\n",
       "</style>\n",
       "<table border=\"1\" class=\"dataframe\">\n",
       "  <thead>\n",
       "    <tr style=\"text-align: right;\">\n",
       "      <th></th>\n",
       "      <th>Btc</th>\n",
       "      <th>Eth</th>\n",
       "    </tr>\n",
       "  </thead>\n",
       "  <tbody>\n",
       "    <tr>\n",
       "      <th>0</th>\n",
       "      <td>0.0000</td>\n",
       "      <td>0.0000</td>\n",
       "    </tr>\n",
       "    <tr>\n",
       "      <th>1</th>\n",
       "      <td>0.0000</td>\n",
       "      <td>0.8555</td>\n",
       "    </tr>\n",
       "    <tr>\n",
       "      <th>2</th>\n",
       "      <td>0.0000</td>\n",
       "      <td>-0.6249</td>\n",
       "    </tr>\n",
       "    <tr>\n",
       "      <th>3</th>\n",
       "      <td>0.0000</td>\n",
       "      <td>-0.2960</td>\n",
       "    </tr>\n",
       "    <tr>\n",
       "      <th>4</th>\n",
       "      <td>0.3182</td>\n",
       "      <td>-0.4019</td>\n",
       "    </tr>\n",
       "  </tbody>\n",
       "</table>\n",
       "</div>"
      ],
      "text/plain": [
       "      Btc     Eth\n",
       "0  0.0000  0.0000\n",
       "1  0.0000  0.8555\n",
       "2  0.0000 -0.6249\n",
       "3  0.0000 -0.2960\n",
       "4  0.3182 -0.4019"
      ]
     },
     "execution_count": 12,
     "metadata": {},
     "output_type": "execute_result"
    }
   ],
   "source": [
    "#Make a dataframe to analyze the results\n",
    "daily_sent_df = pd.DataFrame({'Btc':btc_daily_sent,'Eth':eth_daily_sent})\n",
    "daily_sent_df.head(5)"
   ]
  },
  {
   "cell_type": "code",
   "execution_count": 13,
   "metadata": {},
   "outputs": [
    {
     "data": {
      "text/plain": [
       "-0.6249"
      ]
     },
     "execution_count": 13,
     "metadata": {},
     "output_type": "execute_result"
    }
   ],
   "source": [
    "#Find the highest daily score\n",
    "highest_Btc_sent = daily_sent_df['Btc'].max()\n",
    "highest_Eth_sent = daily_sent_df['Eth'].max()\n",
    "\n",
    "#Find the lowest daily score\n",
    "lowest_Btc_sent = daily_sent_df['Btc'].min()\n",
    "lowest_Eth_sent = daily_sent_df['Eth'].min()\n",
    "\n",
    "lowest_Eth_sent\n"
   ]
  },
  {
   "cell_type": "code",
   "execution_count": 14,
   "metadata": {},
   "outputs": [
    {
     "name": "stdout",
     "output_type": "stream",
     "text": [
      "The highest mean positive score is Etheriums at [0.07633500000000001].\n",
      "The highest daily sentiment score is from Etherium at 0.8555.\n",
      "The lowest daily sentiment score is from Bitcoin at -0.6652.\n"
     ]
    }
   ],
   "source": [
    "print(f'The highest mean positive score is Etheriums at {eth_sentiment}.')\n",
    "print(f'The highest daily sentiment score is from Etherium at {highest_Eth_sent}.')\n",
    "print(f'The lowest daily sentiment score is from Bitcoin at {lowest_Btc_sent}.')"
   ]
  },
  {
   "cell_type": "markdown",
   "metadata": {},
   "source": [
    "### Questions:\n",
    "\n",
    "Q: Which coin had the highest mean positive score?\n",
    "\n",
    "A: The highest mean positive score is from Etherium [0.07793].\n",
    "\n",
    "Q: Which coin had the highest negative score?\n",
    "\n",
    "A: The lowest daily sentiment score is from Bitcoin at -0.6652.\n",
    "\n",
    "Q. Which coin had the highest positive score?\n",
    "\n",
    "A: The highest daily sentiment score is from Etherium at 0.6369."
   ]
  },
  {
   "cell_type": "markdown",
   "metadata": {},
   "source": [
    "---"
   ]
  },
  {
   "cell_type": "markdown",
   "metadata": {},
   "source": [
    "## 2. Natural Language Processing\n",
    "---\n",
    "###   Tokenizer\n",
    "\n",
    "In this section, you will use NLTK and Python to tokenize the text for each coin. Be sure to:\n",
    "1. Lowercase each word.\n",
    "2. Remove Punctuation.\n",
    "3. Remove Stopwords."
   ]
  },
  {
   "cell_type": "code",
   "execution_count": 15,
   "metadata": {},
   "outputs": [],
   "source": [
    "from nltk.tokenize import word_tokenize, sent_tokenize\n",
    "from nltk.corpus import stopwords\n",
    "from nltk.stem import WordNetLemmatizer, PorterStemmer\n",
    "from string import punctuation\n",
    "import re\n",
    "regex = re.compile(\"[^a-zA-Z ]\")"
   ]
  },
  {
   "cell_type": "code",
   "execution_count": 16,
   "metadata": {},
   "outputs": [
    {
     "name": "stdout",
     "output_type": "stream",
     "text": [
      "New York lawmakers have passed a bill\n",
      " that would temporarily ban new bitcoin\n",
      " mining operations. Early on Friday, state senators voted 36-27 to pass the legislation. It's now bound for the desk of Governor Kathy Hochul, who will sign it into law or veto th…\n"
     ]
    }
   ],
   "source": [
    "print(btc_df['description'][0])"
   ]
  },
  {
   "cell_type": "code",
   "execution_count": 17,
   "metadata": {},
   "outputs": [],
   "source": [
    "# Instantiate the lemmatizer\n",
    "lemmatizer = WordNetLemmatizer()\n",
    "\n",
    "# Create a list of stopwords\n",
    "sw = set(stopwords.words('english'))\n",
    "\n",
    "# Expand the default stopwords list if necessary\n",
    "# YOUR CODE HERE!"
   ]
  },
  {
   "cell_type": "code",
   "execution_count": 30,
   "metadata": {},
   "outputs": [],
   "source": [
    "# Complete the tokenizer function\n",
    "def tokenizer(text):\n",
    "    \"\"\"Tokenizes text.\"\"\"\n",
    "   \n",
    "    # Remove the punctuation from text\n",
    "    re_clean = regex.sub('', text)\n",
    "\n",
    "    # Create a tokenized list of the sentences\n",
    "    words = word_tokenize(text)\n",
    "    \n",
    "    # Lemmatize words into root words\n",
    "    words = [lemmatizer.lemmatize(word) for word in words]\n",
    "   \n",
    "    # Convert the words to lowercase\n",
    "    words = [lemmatizer.lemmatize(word) for word in words]\n",
    "    \n",
    "    # Remove the stop words\n",
    "    tokens = [word.lower() for word in words if word.lower not in sw]\n",
    "    \n",
    "    return tokens"
   ]
  },
  {
   "cell_type": "code",
   "execution_count": 31,
   "metadata": {},
   "outputs": [
    {
     "data": {
      "text/html": [
       "<div>\n",
       "<style scoped>\n",
       "    .dataframe tbody tr th:only-of-type {\n",
       "        vertical-align: middle;\n",
       "    }\n",
       "\n",
       "    .dataframe tbody tr th {\n",
       "        vertical-align: top;\n",
       "    }\n",
       "\n",
       "    .dataframe thead th {\n",
       "        text-align: right;\n",
       "    }\n",
       "</style>\n",
       "<table border=\"1\" class=\"dataframe\">\n",
       "  <thead>\n",
       "    <tr style=\"text-align: right;\">\n",
       "      <th></th>\n",
       "      <th>title</th>\n",
       "      <th>description</th>\n",
       "      <th>tokens</th>\n",
       "    </tr>\n",
       "  </thead>\n",
       "  <tbody>\n",
       "    <tr>\n",
       "      <th>0</th>\n",
       "      <td>New York passes a bill to limit bitcoin mining</td>\n",
       "      <td>New York lawmakers have passed a bill\\r\\n that...</td>\n",
       "      <td>[new, york, lawmaker, have, passed, a, bill, t...</td>\n",
       "    </tr>\n",
       "    <tr>\n",
       "      <th>1</th>\n",
       "      <td>Jay-Z and Jack Dorsey Launch Bitcoin Academy f...</td>\n",
       "      <td>Rapper and entrepreneur Shawn Carter, better k...</td>\n",
       "      <td>[rapper, and, entrepreneur, shawn, carter, ,, ...</td>\n",
       "    </tr>\n",
       "    <tr>\n",
       "      <th>2</th>\n",
       "      <td>Bitcoin Wasn't as Decentralized or Anonymous a...</td>\n",
       "      <td>A new study on bitcoin calls into question whe...</td>\n",
       "      <td>[a, new, study, on, bitcoin, call, into, quest...</td>\n",
       "    </tr>\n",
       "    <tr>\n",
       "      <th>3</th>\n",
       "      <td>Why the Central African Republic adopted Bitcoin</td>\n",
       "      <td>Some 90% of people in the Central African Repu...</td>\n",
       "      <td>[some, 90, %, of, people, in, the, central, af...</td>\n",
       "    </tr>\n",
       "    <tr>\n",
       "      <th>4</th>\n",
       "      <td>Chipotle now accepts cryptocurrency payments</td>\n",
       "      <td>You can now reportedly pay for your burritos a...</td>\n",
       "      <td>[you, can, now, reportedly, pay, for, your, bu...</td>\n",
       "    </tr>\n",
       "  </tbody>\n",
       "</table>\n",
       "</div>"
      ],
      "text/plain": [
       "                                               title  \\\n",
       "0     New York passes a bill to limit bitcoin mining   \n",
       "1  Jay-Z and Jack Dorsey Launch Bitcoin Academy f...   \n",
       "2  Bitcoin Wasn't as Decentralized or Anonymous a...   \n",
       "3   Why the Central African Republic adopted Bitcoin   \n",
       "4       Chipotle now accepts cryptocurrency payments   \n",
       "\n",
       "                                         description  \\\n",
       "0  New York lawmakers have passed a bill\\r\\n that...   \n",
       "1  Rapper and entrepreneur Shawn Carter, better k...   \n",
       "2  A new study on bitcoin calls into question whe...   \n",
       "3  Some 90% of people in the Central African Repu...   \n",
       "4  You can now reportedly pay for your burritos a...   \n",
       "\n",
       "                                              tokens  \n",
       "0  [new, york, lawmaker, have, passed, a, bill, t...  \n",
       "1  [rapper, and, entrepreneur, shawn, carter, ,, ...  \n",
       "2  [a, new, study, on, bitcoin, call, into, quest...  \n",
       "3  [some, 90, %, of, people, in, the, central, af...  \n",
       "4  [you, can, now, reportedly, pay, for, your, bu...  "
      ]
     },
     "execution_count": 31,
     "metadata": {},
     "output_type": "execute_result"
    }
   ],
   "source": [
    "# Create a new tokens column for Bitcoin\n",
    "btc_df['tokens'] = [tokenizer(description) for description in btc_df['description']]\n",
    "btc_df.head()"
   ]
  },
  {
   "cell_type": "code",
   "execution_count": 20,
   "metadata": {},
   "outputs": [
    {
     "data": {
      "text/html": [
       "<div>\n",
       "<style scoped>\n",
       "    .dataframe tbody tr th:only-of-type {\n",
       "        vertical-align: middle;\n",
       "    }\n",
       "\n",
       "    .dataframe tbody tr th {\n",
       "        vertical-align: top;\n",
       "    }\n",
       "\n",
       "    .dataframe thead th {\n",
       "        text-align: right;\n",
       "    }\n",
       "</style>\n",
       "<table border=\"1\" class=\"dataframe\">\n",
       "  <thead>\n",
       "    <tr style=\"text-align: right;\">\n",
       "      <th></th>\n",
       "      <th>title</th>\n",
       "      <th>description</th>\n",
       "      <th>tokens</th>\n",
       "    </tr>\n",
       "  </thead>\n",
       "  <tbody>\n",
       "    <tr>\n",
       "      <th>0</th>\n",
       "      <td>50 cryptocurrency and NFT terms you need to know</td>\n",
       "      <td>Web3 Youtuber Aprilynne Alters shares a list o...</td>\n",
       "      <td>[web3, youtuber, aprilynne, alters, share, a, ...</td>\n",
       "    </tr>\n",
       "    <tr>\n",
       "      <th>1</th>\n",
       "      <td>Top Ten: Weekend reads: New ideas for retireme...</td>\n",
       "      <td>Also, inflation, oil prices and energy stocks,...</td>\n",
       "      <td>[also, ,, inflation, ,, oil, price, and, energ...</td>\n",
       "    </tr>\n",
       "    <tr>\n",
       "      <th>2</th>\n",
       "      <td>Crypto Bros Are Now On The Frontlines Of A Ful...</td>\n",
       "      <td>Financial crises can trigger serious mental he...</td>\n",
       "      <td>[financial, crisis, can, trigger, serious, men...</td>\n",
       "    </tr>\n",
       "    <tr>\n",
       "      <th>3</th>\n",
       "      <td>Chargesheet filed against cyber expert duo for...</td>\n",
       "      <td>The duo is alleged to have prepared forged scr...</td>\n",
       "      <td>[the, duo, is, alleged, to, have, prepared, fo...</td>\n",
       "    </tr>\n",
       "    <tr>\n",
       "      <th>4</th>\n",
       "      <td>From blood-on-the-streets to a full-blown bubb...</td>\n",
       "      <td>​Terra (UST), a stablecoin designed to peg the...</td>\n",
       "      <td>[​terra, (, ust, ), ,, a, stablecoin, designed...</td>\n",
       "    </tr>\n",
       "  </tbody>\n",
       "</table>\n",
       "</div>"
      ],
      "text/plain": [
       "                                               title  \\\n",
       "0   50 cryptocurrency and NFT terms you need to know   \n",
       "1  Top Ten: Weekend reads: New ideas for retireme...   \n",
       "2  Crypto Bros Are Now On The Frontlines Of A Ful...   \n",
       "3  Chargesheet filed against cyber expert duo for...   \n",
       "4  From blood-on-the-streets to a full-blown bubb...   \n",
       "\n",
       "                                         description  \\\n",
       "0  Web3 Youtuber Aprilynne Alters shares a list o...   \n",
       "1  Also, inflation, oil prices and energy stocks,...   \n",
       "2  Financial crises can trigger serious mental he...   \n",
       "3  The duo is alleged to have prepared forged scr...   \n",
       "4  ​Terra (UST), a stablecoin designed to peg the...   \n",
       "\n",
       "                                              tokens  \n",
       "0  [web3, youtuber, aprilynne, alters, share, a, ...  \n",
       "1  [also, ,, inflation, ,, oil, price, and, energ...  \n",
       "2  [financial, crisis, can, trigger, serious, men...  \n",
       "3  [the, duo, is, alleged, to, have, prepared, fo...  \n",
       "4  [​terra, (, ust, ), ,, a, stablecoin, designed...  "
      ]
     },
     "execution_count": 20,
     "metadata": {},
     "output_type": "execute_result"
    }
   ],
   "source": [
    "# Create a new tokens column for Ethereum\n",
    "eth_df['tokens'] = [tokenizer(description) for description in eth_df['description']]\n",
    "eth_df.head()"
   ]
  },
  {
   "cell_type": "markdown",
   "metadata": {},
   "source": [
    "---"
   ]
  },
  {
   "cell_type": "markdown",
   "metadata": {},
   "source": [
    "### NGrams and Frequency Analysis\n",
    "\n",
    "In this section you will look at the ngrams and word frequency for each coin. \n",
    "\n",
    "1. Use NLTK to produce the n-grams for N = 2. \n",
    "2. List the top 10 words for each coin. "
   ]
  },
  {
   "cell_type": "code",
   "execution_count": 21,
   "metadata": {},
   "outputs": [],
   "source": [
    "from collections import Counter\n",
    "from nltk import ngrams"
   ]
  },
  {
   "cell_type": "code",
   "execution_count": 22,
   "metadata": {},
   "outputs": [],
   "source": [
    "btc_token_list = btc_df['tokens'].tolist() #create a nested list of all the tokens for BTC."
   ]
  },
  {
   "cell_type": "code",
   "execution_count": 23,
   "metadata": {},
   "outputs": [],
   "source": [
    "#flatten the nested list into one list so it can be read by the counter function.\n",
    "flat_btc_token_list = []\n",
    "for i in range(len(btc_token_list)):\n",
    "    for j in range(len(btc_token_list[i])):\n",
    "        flat_btc_token_list.append(btc_token_list[i][j])"
   ]
  },
  {
   "cell_type": "code",
   "execution_count": 24,
   "metadata": {},
   "outputs": [
    {
     "name": "stdout",
     "output_type": "stream",
     "text": [
      "{('new', 'york'): 1, ('york', 'lawmaker'): 1, ('lawmaker', 'have'): 1, ('have', 'passed'): 1, ('passed', 'a'): 1, ('a', 'bill'): 1, ('bill', 'that'): 2, ('that', 'would'): 2, ('would', 'temporarily'): 2, ('temporarily', 'ban'): 1, ('ban', 'new'): 1, ('new', 'bitcoin'): 1, ('bitcoin', 'mining'): 1, ('mining', 'operation'): 1, ('operation', '.'): 1, ('.', 'early'): 1, ('early', 'on'): 1, ('on', 'friday'): 1, ('friday', ','): 1, (',', 'state'): 1, ('state', 'senator'): 1, ('senator', 'voted'): 1, ('voted', '36-27'): 1, ('36-27', 'to'): 1, ('to', 'pa'): 1, ('pa', 'the'): 1, ('the', 'legislation'): 1, ('legislation', '.'): 1, ('.', 'it'): 1, ('it', \"'s\"): 1, (\"'s\", 'now'): 1, ('now', 'bound'): 1, ('bound', 'for'): 1, ('for', 'the'): 5, ('the', 'desk'): 1, ('desk', 'of'): 1, ('of', 'governor'): 1, ('governor', 'kathy'): 1, ('kathy', 'hochul'): 2, ('hochul', ','): 1, (',', 'who'): 1, ('who', 'will'): 1, ('will', 'sign'): 1, ('sign', 'it'): 1, ('it', 'into'): 1, ('into', 'law'): 1, ('law', 'or'): 1, ('or', 'veto'): 1, ('veto', 'th…'): 1, ('th…', 'rapper'): 1, ('rapper', 'and'): 1, ('and', 'entrepreneur'): 1, ('entrepreneur', 'shawn'): 1, ('shawn', 'carter'): 1, ('carter', ','): 1, (',', 'better'): 1, ('better', 'known'): 1, ('known', 'a'): 1, ('a', 'jay-z'): 1, ('jay-z', ','): 1, (',', 'is'): 1, ('is', 'bringing'): 1, ('bringing', 'bitcoin'): 1, ('bitcoin', 'to'): 1, ('to', 'the'): 2, ('the', 'place'): 1, ('place', 'where'): 1, ('where', 'he'): 1, ('he', 'grew'): 1, ('grew', 'up'): 1, ('up', '.'): 1, ('.', 'on'): 1, ('on', 'thursday'): 1, ('thursday', ','): 1, (',', 'jay-z'): 1, ('jay-z', 'and'): 1, ('and', 'former'): 1, ('former', 'twitter'): 1, ('twitter', 'ceo'): 1, ('ceo', 'jack'): 1, ('jack', 'dorsey'): 1, ('dorsey', 'announced'): 1, ('announced', 'the'): 1, ('the', 'launch'): 1, ('launch', 'of'): 1, ('of', 'bitcoin'): 1, ('bitcoin', 'academy'): 1, ('academy', ','): 1, (',', 'which'): 1, ('which', 'will'): 1, ('will', 'offer'): 1, ('offer', 'free'): 1, ('free', 'class'): 1, ('class', 'on'): 1, ('on', 'cryptocurrency'): 1, ('cryptocurrency', 'for'): 1, ('for', '…'): 1, ('…', 'a'): 1, ('a', 'new'): 1, ('new', 'study'): 1, ('study', 'on'): 1, ('on', 'bitcoin'): 1, ('bitcoin', 'call'): 1, ('call', 'into'): 1, ('into', 'question'): 1, ('question', 'whether'): 1, ('whether', 'the'): 1, ('the', 'digital'): 2, ('digital', 'currency'): 2, ('currency', 'is'): 1, ('is', 'truly'): 1, ('truly', 'a'): 1, ('a', 'decentralized'): 1, ('decentralized', 'and'): 1, ('and', 'anonymous'): 1, ('anonymous', 'a'): 1, ('a', 'it'): 1, ('it', 'biggest'): 1, ('biggest', 'devotee'): 1, ('devotee', 'would'): 1, ('would', 'have'): 1, ('have', 'you'): 1, ('you', 'believe'): 1, ('believe', '.'): 1, ('.', 'read'): 1, ('read', 'more'): 1, ('more', '...'): 1, ('...', 'some'): 1, ('some', '90'): 1, ('90', '%'): 1, ('%', 'of'): 1, ('of', 'people'): 1, ('people', 'in'): 1, ('in', 'the'): 2, ('the', 'central'): 1, ('central', 'african'): 1, ('african', 'republic'): 1, ('republic', 'lack'): 1, ('lack', 'access'): 1, ('access', 'to'): 1, ('the', 'internet'): 1, ('internet', ','): 1, (',', 'needed'): 1, ('needed', 'to'): 1, ('to', 'use'): 2, ('use', 'bitcoin'): 1, ('bitcoin', '.'): 1, ('.', 'you'): 2, ('you', 'can'): 2, ('can', 'now'): 2, ('now', 'reportedly'): 1, ('reportedly', 'pay'): 1, ('pay', 'for'): 2, ('for', 'your'): 1, ('your', 'burrito'): 1, ('burrito', 'and'): 1, ('and', 'taco'): 1, ('taco', 'with'): 1, ('with', 'bitcoin'): 1, ('bitcoin', 'and'): 1, ('and', 'other'): 1, ('other', 'digital'): 1, ('currency', ','): 1, (',', 'in'): 2, ('in', 'case'): 1, ('case', 'you'): 1, ('you', 'do'): 1, ('do', \"n't\"): 1, (\"n't\", 'mind'): 1, ('mind', 'spending'): 1, ('spending', 'your'): 1, ('your', 'coin'): 1, ('coin', 'directly'): 1, ('directly', 'instead'): 1, ('instead', 'of'): 1, ('of', 'going'): 1, ('going', 'through'): 1, ('through', 'exchange'): 1, ('exchange', 'first'): 1, ('first', '.'): 1, ('.', 'flexa'): 1, ('flexa', 'ha'): 1, ('ha', 'announced'): 1, ('announced', 'that'): 1, ('that', 'the'): 1, ('the', 'mexican'): 1, ('mexican', 'fast'): 1, ('fast', 'food'): 1, ('food', 'chain'): 1, ('chain', 'can'): 1, ('now', 'accept…'): 1, ('accept…', 'as'): 1, ('as', 'a'): 1, ('a', 'kid'): 1, ('kid', ','): 1, (',', 'i'): 1, ('i', 'remember'): 1, ('remember', 'when'): 1, ('when', 'my'): 1, ('my', 'father'): 1, ('father', 'tried'): 1, ('tried', 'to'): 1, ('use', 'a'): 1, ('a', 'broom'): 1, ('broom', 'handle'): 1, ('handle', 'in'): 1, ('in', 'a'): 3, ('a', 'last'): 1, ('last', 'ditch'): 1, ('ditch', 'effort'): 1, ('effort', 'to'): 1, ('to', 'support'): 1, ('support', 'a'): 1, ('a', 'roof'): 1, ('roof', 'that'): 1, ('that', 'wa'): 1, ('wa', 'collapsing'): 1, ('collapsing', 'from'): 1, ('from', 'the'): 2, ('the', 'weight'): 1, ('weight', 'of'): 1, ('of', 'nearly'): 1, ('nearly', 'three'): 1, ('three', 'foot'): 1, ('foot', 'of'): 1, ('of', 'snow'): 1, ('snow', '.'): 1, ('can', 'guess'): 1, ('guess', 'how'): 1, ('how', 'well'): 1, ('well', 'that'): 1, ('that', 'went'): 1, ('went', '.'): 1, ('.', 'in'): 2, ('a', 'similar'): 1, ('similar', 'vein'): 1, ('vein', ','): 1, (',', 'terra'): 1, ('terra', 'blockchain'): 1, ('blockchain', 'reportedly'): 1, ('reportedly', 'spent'): 1, ('spent', '$'): 1, ('$', '…'): 1, ('…', 'customers'): 1, ('customers', 'at'): 1, ('at', 'chipotle'): 1, ('chipotle', 'will'): 1, ('will', 'now'): 1, ('now', 'be'): 1, ('be', 'able'): 1, ('able', 'to'): 1, ('to', 'pay'): 1, ('for', 'their'): 1, ('their', 'burrito'): 1, ('burrito', 'with'): 1, ('with', 'cryptocurrencies'): 1, ('cryptocurrencies', ','): 1, (',', 'including'): 1, ('including', 'bitcoin'): 1, ('bitcoin', ','): 4, (',', 'ether'): 1, ('ether', ','): 1, (',', 'and'): 1, ('and', 'dogecoin'): 1, ('dogecoin', ','): 1, ('a', 'move'): 1, ('move', 'that'): 1, ('that', 'could'): 1, ('could', 'help'): 1, ('help', 'crypto'): 1, ('crypto', 'become'): 1, ('become', 'more'): 1, ('more', 'mainstream'): 1, ('mainstream', ','): 1, (',', 'according'): 2, ('according', 'to'): 2, ('to', 'trade'): 1, ('trade', 'publication'): 1, ('publication', 'restaurant'): 1, ('restaurant', 'business'): 1, ('business', '.'): 1, ('.', 'but'): 1, ('but', 'there'): 1, ('there', '’'): 1, ('’', 's'): 2, ('s', 'just'): 1, ('just', 'one'): 1, ('one', 'i…'): 1, ('i…', 'michael'): 1, ('michael', 'chobanian'): 1, ('chobanian', ','): 1, (',', 'the'): 1, ('the', 'president'): 1, ('president', 'of'): 1, ('of', 'the'): 3, ('the', 'blockchain'): 1, ('blockchain', 'association'): 1, ('association', 'of'): 1, ('of', 'ukraine'): 1, ('ukraine', ','): 1, (',', 'discus'): 1, ('discus', 'how'): 1, ('how', 'cryptocurrency'): 1, ('cryptocurrency', 'and'): 4, ('and', 'blockchain'): 1, ('blockchain', 'could'): 1, ('could', 'reshape'): 1, ('reshape', 'the'): 1, ('the', 'ukrainian'): 1, ('ukrainian', 'government'): 1, ('government', '.'): 2, ('.', 'bitcoin'): 2, ('bitcoin', 'rose'): 1, ('rose', '5.2'): 1, ('5.2', '%'): 1, ('%', 'to'): 1, ('to', '$'): 1, ('$', '31,441.76'): 1, ('31,441.76', 'at'): 1, ('at', '2000'): 1, ('2000', 'gmt'): 1, ('gmt', 'on'): 1, ('on', 'monday'): 2, ('monday', ','): 2, (',', 'adding'): 1, ('adding', '$'): 1, ('$', '1,552.78'): 1, ('1,552.78', 'to'): 1, ('to', 'it'): 1, ('it', 'previous'): 1, ('previous', 'close'): 1, ('close', '.'): 1, ('.', 'an'): 1, ('an', 'epic'): 1, ('epic', 'crash'): 1, ('crash', 'in'): 1, ('in', 'algorithmic'): 1, ('algorithmic', 'stablecoins'): 1, ('stablecoins', 'spell'): 1, ('spell', 'trouble'): 1, ('trouble', 'for'): 1, ('the', 'entire'): 1, ('entire', 'industry'): 1, ('industry', '.'): 1, ('.', 'the'): 2, ('the', 'crypto'): 1, ('crypto', 'winter'): 1, ('winter', 'is'): 1, ('is', 'into'): 1, ('into', 'it'): 1, ('it', 'ninth'): 1, ('ninth', 'week'): 1, ('week', 'and'): 1, ('and', 'bitcoin'): 1, ('bitcoin', 'ca'): 1, ('ca', \"n't\"): 1, (\"n't\", 'shake'): 1, ('shake', 'the'): 1, ('the', 'chill'): 1, ('chill', '.'): 1, ('.', 'all'): 3, ('all', 'the'): 3, ('the', 'bitcoin'): 3, (',', 'cryptocurrency'): 3, ('and', 'nft'): 3, ('nft', 'news'): 3, ('news', 'for'): 3, ('the', 'week'): 3, ('week', 'ending'): 3, ('ending', 'may'): 3, ('may', '27'): 2, ('27', '.'): 2, ('may', '20'): 1, ('20', '.'): 1, ('bitcoin', 'ha'): 1, ('ha', 'no'): 1, ('no', 'future'): 1, ('future', 'a'): 1, ('a', 'a'): 1, ('a', 'payment'): 1, ('payment', 'network'): 1, ('network', 'because'): 1, ('because', 'of'): 1, ('of', 'it'): 1, ('it', 'inefficiency'): 1, ('inefficiency', 'and'): 1, ('and', 'high'): 1, ('high', 'environmental'): 1, ('environmental', 'cost'): 1, ('cost', ','): 1, ('to', 'one'): 1, ('one', 'of'): 1, ('of', 'crypto'): 1, ('crypto', \"'s\"): 1, (\"'s\", 'most'): 1, ('most', 'influential'): 1, ('influential', 'chief'): 1, ('chief', 'executive'): 1, ('executive', '.'): 1, ('.', 'from'): 1, ('from', 'a'): 1, ('a', 'report'): 1, ('report', ':'): 1, (':', 'sam'): 1, ('sam', 'bankman-fried'): 1, ('bankman-fried', ','): 1, (',', 'founder'): 1, ('founder', 'of'): 1, ('digital', 'asset'): 1, ('asset', 'exchange'): 1, ('exchange', 'ftx'): 1, ('ftx', ','): 1, (',', 'said'): 1, ('said', 'the'): 1, ('the', 'proof'): 1, ('proof', 'o…'): 1, ('o…', 'crypto'): 1, ('crypto', 'interest'): 1, ('interest', 'are'): 1, ('are', 'lobbying'): 1, ('lobbying', 'gov'): 1, ('gov', '.'): 1, ('.', 'kathy'): 1, ('hochul', 'to'): 1, ('to', 'veto'): 1, ('veto', 'a'): 1, ('a', 'groundbreaking'): 1, ('groundbreaking', 'bill'): 1, ('temporarily', 'halt'): 1, ('halt', 'new'): 1, ('new', 'crypto-mining'): 1, ('crypto-mining', 'project'): 1, ('project', 'at'): 1, ('at', 'fossil-fuel'): 1, ('fossil-fuel', 'burning'): 1, ('burning', 'plant'): 1, ('plant', '.'): 1, ('.', 'fantasies'): 1, ('fantasies', 'of'): 1, ('of', 'a'): 1, ('a', 'bitcoin'): 1, ('bitcoin', 'city'): 1, ('city', 'have'): 1, ('have', 'been'): 1, ('been', 'undermined'): 1, ('undermined', 'by'): 1, ('by', 'the'): 1, ('the', 'country'): 1, ('country', '’'): 1, ('s', 'huge'): 1, ('huge', 'loss'): 1, ('loss', 'in'): 1, ('in', 'cryptocurrencyto'): 1, ('cryptocurrencyto', 'it'): 1, ('it', 'evangelist'): 1, ('evangelist', ','): 1, (',', 'bitcoin'): 1, ('bitcoin', 'is'): 1, ('is', 'a'): 1, ('a', 'frictionless'): 1, ('frictionless', ','): 1, (',', 'empowering'): 1, ('empowering', 'form'): 1, ('form', 'of'): 1, ('of', 'money'): 1, ('money', 'that'): 1, ('that', 'liberates'): 1, ('liberates', 'citizen'): 1, ('citizen', 'of'): 1, ('the', 'world'): 1, ('world', 'from'): 1, ('the', 'shackle'): 1, ('shackle', 'of'): 1, ('of', 'bank'): 1, ('bank', 'and'): 1, ('and', 'national'): 1, ('national', 'government'): 1, ('.', 'to…'): 1, ('to…', 'el'): 1, ('el', 'salvador'): 1, ('salvador', 'became'): 1, ('became', 'the'): 1, ('the', 'first'): 1, ('first', 'country'): 1, ('country', 'to'): 1, ('to', 'make'): 1, ('make', 'bitcoin'): 1, ('bitcoin', 'legal'): 1, ('legal', 'tender'): 1, ('tender', 'in'): 1, ('in', 'september'): 1, ('september', 'despite'): 1, ('despite', 'multiple'): 1, ('multiple', 'warning'): 1, ('warning', 'from'): 1, ('from', 'financial'): 1, ('financial', 'institution'): 1, ('institution', '.'): 1, ('the', 'crypstation'): 1, ('crypstation', 'cafe'): 1, ('cafe', 'in'): 1, ('in', 'downtown'): 1, ('downtown', 'buenos'): 1, ('buenos', 'aires'): 1, ('aires', ','): 1, (',', 'trendy'): 1, ('trendy', 'young'): 1, ('young', 'argentines'): 1, ('argentines', 'order'): 1, ('order', 'their'): 1, ('their', 'latte'): 1, ('latte', 'and'): 1, ('and', 'pastry'): 1, ('pastry', 'surrounded'): 1, ('surrounded', 'by'): 1, ('by', 'screen'): 1, ('screen', 'with'): 1, ('with', 'real-time'): 1, ('real-time', 'cryptocurrency'): 1, ('cryptocurrency', 'price'): 1, ('price', 'quote'): 1, ('quote', 'and'): 1, ('and', 'a'): 1, ('a', 'huge'): 1, ('huge', 'neon'): 1, ('neon', 'bitcoin'): 1, ('bitcoin', 'logo'): 1, ('logo', '.'): 1, ('the', 'bill'): 1, ('bill', 'can'): 1, ('can', 'be'): 1, ('be', 'paid'): 1, ('paid', 'in'): 1, ('in', 'digital'): 1, ('digital', 'money'): 1, ('money', ','): 1, (',', 'too'): 1, ('too', '.'): 1, ('.', 'cryptocurrencies'): 1, ('cryptocurrencies', 'resumed'): 1, ('resumed', 'their'): 1, ('their', 'slide'): 1, ('slide', 'on'): 1, (',', 'giving'): 1, ('giving', 'up'): 1, ('up', 'the'): 1, ('the', 'gain'): 1, ('gain', 'they'): 1, ('they', 'had'): 1, ('had', 'eked'): 1, ('eked', 'out'): 1, ('out', 'over'): 1, ('over', 'the'): 1, ('the', 'weekend'): 1, ('weekend', ','): 1, (',', 'a'): 1, ('a', 'regulator'): 1, ('regulator', 'continued'): 1, ('continued', 'to'): 1, ('to', 'circle'): 1, ('circle', '.'): 1}\n"
     ]
    }
   ],
   "source": [
    "# Generate the Bitcoin N-grams where N=2\n",
    "bigram_counts = Counter(ngrams(flat_btc_token_list, n=2))\n",
    "print(dict(bigram_counts))"
   ]
  },
  {
   "cell_type": "code",
   "execution_count": 25,
   "metadata": {},
   "outputs": [],
   "source": [
    "# Generate the Ethereum N-grams where N=2\n",
    "\n",
    "eth_token_list = eth_df['tokens'].tolist() #create a nested list of all the tokens for ETH."
   ]
  },
  {
   "cell_type": "code",
   "execution_count": 26,
   "metadata": {},
   "outputs": [],
   "source": [
    "#flatten the nested list into one list so it can be read by the counter function.\n",
    "flat_eth_token_list = []\n",
    "for i in range(len(eth_token_list)):\n",
    "    for j in range(len(eth_token_list[i])):\n",
    "        flat_eth_token_list.append(eth_token_list[i][j])"
   ]
  },
  {
   "cell_type": "code",
   "execution_count": 38,
   "metadata": {},
   "outputs": [],
   "source": [
    "# Function token_count generates the top 10 words for a given coin\n",
    "def token_count(tokens, N=3):\n",
    "    \"\"\"Returns the top N tokens from the frequency count\"\"\"\n",
    "    \n",
    "    #create a nested list of all the tokens for the coin.\n",
    "    token_list = tokens.tolist()\n",
    "    \n",
    "    #flatten the nested list into one list so it can be read by the counter function.\n",
    "    flat_token_list = []\n",
    "    for i in range(len(token_list)):\n",
    "        for j in range(len(token_list[i])):\n",
    "            flat_token_list.append(token_list[i][j])\n",
    "            \n",
    "    # Remove the punctuation from text\n",
    "    re_clean = regex.sub('', flat_token_list)\n",
    "\n",
    "    # Create a tokenized list of the sentences\n",
    "    words = word_tokenize(flat_token_list)\n",
    "    \n",
    "    # Lemmatize words into root words\n",
    "    words = [lemmatizer.lemmatize(word) for word in words]\n",
    "   \n",
    "    # Convert the words to lowercase\n",
    "    words = [lemmatizer.lemmatize(word) for word in words]\n",
    "    \n",
    "    # Remove the stop words\n",
    "    tokens = [word.lower() for word in words if word.lower not in sw]\n",
    "    \n",
    "    \n",
    "    \n",
    "    return Counter(tokens).most_common(N)"
   ]
  },
  {
   "cell_type": "code",
   "execution_count": 39,
   "metadata": {},
   "outputs": [
    {
     "ename": "TypeError",
     "evalue": "expected string or bytes-like object",
     "output_type": "error",
     "traceback": [
      "\u001b[1;31m---------------------------------------------------------------------------\u001b[0m",
      "\u001b[1;31mTypeError\u001b[0m                                 Traceback (most recent call last)",
      "Input \u001b[1;32mIn [39]\u001b[0m, in \u001b[0;36m<cell line: 2>\u001b[1;34m()\u001b[0m\n\u001b[0;32m      1\u001b[0m \u001b[38;5;66;03m# Use token_count to get the top 10 words for Bitcoin\u001b[39;00m\n\u001b[1;32m----> 2\u001b[0m \u001b[43mtoken_count\u001b[49m\u001b[43m(\u001b[49m\u001b[43mbtc_df\u001b[49m\u001b[43m[\u001b[49m\u001b[38;5;124;43m'\u001b[39;49m\u001b[38;5;124;43mtokens\u001b[39;49m\u001b[38;5;124;43m'\u001b[39;49m\u001b[43m]\u001b[49m\u001b[43m,\u001b[49m\u001b[43m \u001b[49m\u001b[43mN\u001b[49m\u001b[38;5;241;43m=\u001b[39;49m\u001b[38;5;241;43m10\u001b[39;49m\u001b[43m)\u001b[49m\n",
      "Input \u001b[1;32mIn [38]\u001b[0m, in \u001b[0;36mtoken_count\u001b[1;34m(tokens, N)\u001b[0m\n\u001b[0;32m     12\u001b[0m         flat_token_list\u001b[38;5;241m.\u001b[39mappend(token_list[i][j])\n\u001b[0;32m     14\u001b[0m \u001b[38;5;66;03m# Remove the punctuation from text\u001b[39;00m\n\u001b[1;32m---> 15\u001b[0m re_clean \u001b[38;5;241m=\u001b[39m \u001b[43mregex\u001b[49m\u001b[38;5;241;43m.\u001b[39;49m\u001b[43msub\u001b[49m\u001b[43m(\u001b[49m\u001b[38;5;124;43m'\u001b[39;49m\u001b[38;5;124;43m'\u001b[39;49m\u001b[43m,\u001b[49m\u001b[43m \u001b[49m\u001b[43mflat_token_list\u001b[49m\u001b[43m)\u001b[49m\n\u001b[0;32m     17\u001b[0m \u001b[38;5;66;03m# Create a tokenized list of the sentences\u001b[39;00m\n\u001b[0;32m     18\u001b[0m words \u001b[38;5;241m=\u001b[39m word_tokenize(flat_token_list)\n",
      "\u001b[1;31mTypeError\u001b[0m: expected string or bytes-like object"
     ]
    }
   ],
   "source": [
    "# Use token_count to get the top 10 words for Bitcoin\n",
    "token_count(btc_df['tokens'], N=10)"
   ]
  },
  {
   "cell_type": "code",
   "execution_count": 50,
   "metadata": {},
   "outputs": [
    {
     "data": {
      "text/plain": [
       "[('the', 29),\n",
       " (',', 28),\n",
       " ('.', 18),\n",
       " ('of', 17),\n",
       " ('and', 17),\n",
       " ('a', 14),\n",
       " ('to', 13),\n",
       " ('in', 11),\n",
       " ('crypto', 7),\n",
       " ('is', 7)]"
      ]
     },
     "execution_count": 50,
     "metadata": {},
     "output_type": "execute_result"
    }
   ],
   "source": [
    "# Use token_count to get the top 10 words for Ethereum\n",
    "token_count(flat_eth_token_list, N=10)"
   ]
  },
  {
   "cell_type": "markdown",
   "metadata": {},
   "source": [
    "---"
   ]
  },
  {
   "cell_type": "markdown",
   "metadata": {},
   "source": [
    "### Word Clouds\n",
    "\n",
    "In this section, you will generate word clouds for each coin to summarize the news for each coin"
   ]
  },
  {
   "cell_type": "code",
   "execution_count": 21,
   "metadata": {},
   "outputs": [],
   "source": [
    "from wordcloud import WordCloud\n",
    "import matplotlib.pyplot as plt\n",
    "plt.style.use('seaborn-whitegrid')\n",
    "import matplotlib as mpl\n",
    "mpl.rcParams['figure.figsize'] = [20.0, 10.0]"
   ]
  },
  {
   "cell_type": "code",
   "execution_count": 22,
   "metadata": {},
   "outputs": [],
   "source": [
    "# Generate the Bitcoin word cloud\n",
    "# YOUR CODE HERE!"
   ]
  },
  {
   "cell_type": "code",
   "execution_count": 23,
   "metadata": {},
   "outputs": [],
   "source": [
    "# Generate the Ethereum word cloud\n",
    "# YOUR CODE HERE!"
   ]
  },
  {
   "cell_type": "markdown",
   "metadata": {},
   "source": [
    "---\n",
    "## 3. Named Entity Recognition\n",
    "\n",
    "In this section, you will build a named entity recognition model for both Bitcoin and Ethereum, then visualize the tags using SpaCy."
   ]
  },
  {
   "cell_type": "code",
   "execution_count": 24,
   "metadata": {},
   "outputs": [],
   "source": [
    "import spacy\n",
    "from spacy import displacy"
   ]
  },
  {
   "cell_type": "code",
   "execution_count": 25,
   "metadata": {},
   "outputs": [],
   "source": [
    "# Download the language model for SpaCy\n",
    "# !python -m spacy download en_core_web_sm"
   ]
  },
  {
   "cell_type": "code",
   "execution_count": 26,
   "metadata": {},
   "outputs": [],
   "source": [
    "# Load the spaCy model\n",
    "nlp = spacy.load('en_core_web_sm')"
   ]
  },
  {
   "cell_type": "markdown",
   "metadata": {},
   "source": [
    "---\n",
    "### Bitcoin NER"
   ]
  },
  {
   "cell_type": "code",
   "execution_count": 27,
   "metadata": {},
   "outputs": [],
   "source": [
    "# Concatenate all of the Bitcoin text together\n",
    "# YOUR CODE HERE!"
   ]
  },
  {
   "cell_type": "code",
   "execution_count": 28,
   "metadata": {},
   "outputs": [],
   "source": [
    "# Run the NER processor on all of the text\n",
    "# YOUR CODE HERE!\n",
    "\n",
    "# Add a title to the document\n",
    "# YOUR CODE HERE!"
   ]
  },
  {
   "cell_type": "code",
   "execution_count": 29,
   "metadata": {},
   "outputs": [],
   "source": [
    "# Render the visualization\n",
    "# YOUR CODE HERE!"
   ]
  },
  {
   "cell_type": "code",
   "execution_count": 30,
   "metadata": {},
   "outputs": [],
   "source": [
    "# List all Entities\n",
    "# YOUR CODE HERE!"
   ]
  },
  {
   "cell_type": "markdown",
   "metadata": {},
   "source": [
    "---"
   ]
  },
  {
   "cell_type": "markdown",
   "metadata": {},
   "source": [
    "### Ethereum NER"
   ]
  },
  {
   "cell_type": "code",
   "execution_count": 31,
   "metadata": {},
   "outputs": [],
   "source": [
    "# Concatenate all of the Ethereum text together\n",
    "# YOUR CODE HERE!"
   ]
  },
  {
   "cell_type": "code",
   "execution_count": 32,
   "metadata": {},
   "outputs": [],
   "source": [
    "# Run the NER processor on all of the text\n",
    "# YOUR CODE HERE!\n",
    "\n",
    "# Add a title to the document\n",
    "# YOUR CODE HERE!"
   ]
  },
  {
   "cell_type": "code",
   "execution_count": 33,
   "metadata": {},
   "outputs": [],
   "source": [
    "# Render the visualization\n",
    "# YOUR CODE HERE!"
   ]
  },
  {
   "cell_type": "code",
   "execution_count": 34,
   "metadata": {},
   "outputs": [],
   "source": [
    "# List all Entities\n",
    "# YOUR CODE HERE!"
   ]
  },
  {
   "cell_type": "markdown",
   "metadata": {},
   "source": [
    "---"
   ]
  }
 ],
 "metadata": {
  "file_extension": ".py",
  "kernelspec": {
   "display_name": "Python 3 (ipykernel)",
   "language": "python",
   "name": "python3"
  },
  "language_info": {
   "codemirror_mode": {
    "name": "ipython",
    "version": 3
   },
   "file_extension": ".py",
   "mimetype": "text/x-python",
   "name": "python",
   "nbconvert_exporter": "python",
   "pygments_lexer": "ipython3",
   "version": "3.10.4"
  },
  "mimetype": "text/x-python",
  "name": "python",
  "npconvert_exporter": "python",
  "pygments_lexer": "ipython3",
  "version": 3
 },
 "nbformat": 4,
 "nbformat_minor": 4
}
